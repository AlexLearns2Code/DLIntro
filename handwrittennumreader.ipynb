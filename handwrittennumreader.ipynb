{
  "nbformat": 4,
  "nbformat_minor": 0,
  "metadata": {
    "colab": {
      "name": "_index.ipynb",
      "version": "0.3.2",
      "provenance": [],
      "private_outputs": true,
      "collapsed_sections": []
    },
    "kernelspec": {
      "display_name": "Python 3",
      "name": "python3"
    }
  },
  "cells": [
    {
      "metadata": {
        "colab_type": "text",
        "id": "rX8mhOLljYeM"
      },
      "cell_type": "markdown",
      "source": [
        "##### Copyright 2018 The TensorFlow Authors.\n",
        "\n",
        "Licensed under the Apache License, Version 2.0 (the \"License\");"
      ]
    },
    {
      "metadata": {
        "cellView": "form",
        "colab_type": "code",
        "id": "BZSlp3DAjdYf",
        "colab": {}
      },
      "cell_type": "code",
      "source": [
        "#@title Licensed under the Apache License, Version 2.0 (the \"License\");\n",
        "# you may not use this file except in compliance with the License.\n",
        "# You may obtain a copy of the License at\n",
        "#\n",
        "# https://www.apache.org/licenses/LICENSE-2.0\n",
        "#\n",
        "# Unless required by applicable law or agreed to in writing, software\n",
        "# distributed under the License is distributed on an \"AS IS\" BASIS,\n",
        "# WITHOUT WARRANTIES OR CONDITIONS OF ANY KIND, either express or implied.\n",
        "# See the License for the specific language governing permissions and\n",
        "# limitations under the License."
      ],
      "execution_count": 0,
      "outputs": []
    },
    {
      "metadata": {
        "colab_type": "text",
        "id": "3wF5wszaj97Y"
      },
      "cell_type": "markdown",
      "source": [
        "# Get Started with TensorFlow"
      ]
    },
    {
      "metadata": {
        "colab_type": "text",
        "id": "DUNzJc4jTj6G"
      },
      "cell_type": "markdown",
      "source": [
        "<table class=\"tfo-notebook-buttons\" align=\"left\">\n",
        "  <td>\n",
        "    <a target=\"_blank\" href=\"https://www.tensorflow.org/tutorials/\"><img src=\"https://www.tensorflow.org/images/tf_logo_32px.png\" />View on TensorFlow.org</a>\n",
        "  </td>\n",
        "  <td>\n",
        "    <a target=\"_blank\" href=\"https://colab.research.google.com/github/tensorflow/docs/blob/master/site/en/tutorials/_index.ipynb\"><img src=\"https://www.tensorflow.org/images/colab_logo_32px.png\" />Run in Google Colab</a>\n",
        "  </td>\n",
        "  <td>\n",
        "    <a target=\"_blank\" href=\"https://github.com/tensorflow/docs/blob/master/site/en/tutorials/_index.ipynb\"><img src=\"https://www.tensorflow.org/images/GitHub-Mark-32px.png\" />View source on GitHub</a>\n",
        "  </td>\n",
        "</table>"
      ]
    },
    {
      "metadata": {
        "colab_type": "text",
        "id": "hiH7AC-NTniF"
      },
      "cell_type": "markdown",
      "source": [
        "This is a [Google Colaboratory](https://colab.research.google.com/notebooks/welcome.ipynb) notebook file. Python programs are run directly in the browser—a great way to learn and use TensorFlow. To run the Colab notebook:\n",
        "\n",
        "1. Connect to a Python runtime: At the top-right of the menu bar, select *CONNECT*.\n",
        "2. Run all the notebook code cells: Select *Runtime* > *Run all*.\n",
        "\n",
        "For more examples and guides (including details for this program), see [Get Started with TensorFlow](https://www.tensorflow.org/get_started/).\n",
        "\n",
        "Let's get started, import the TensorFlow library into your program:"
      ]
    },
    {
      "metadata": {
        "colab_type": "text",
        "id": "7NAbSZiaoJ4z"
      },
      "cell_type": "markdown",
      "source": [
        "Load and prepare the [MNIST](http://yann.lecun.com/exdb/mnist/) dataset. Convert the samples from integers to floating-point numbers:"
      ]
    },
    {
      "metadata": {
        "id": "PWCb7KElu3c8",
        "colab_type": "code",
        "colab": {}
      },
      "cell_type": "code",
      "source": [
        "import matplotlib.pyplot as plt\n",
        "mnist = tf.keras.datasets.mnist\n",
        "(x_train,y_train),(x_test,y_test) = mnist.load_data() # loads the data from mnist Dataset to x_train,y_train and x_test,y_test\n",
        "x_train = tf.keras.utils.normalize(x_train,axis=1)\n",
        "x_test = tf.keras.utils.normalize(x_test,axis=1)\n",
        "#print(x_train[1100])\n",
        "\n",
        "model = tf.keras.models.Sequential()   #model creation starts here\n",
        "model.add = tf.keras.layers.Flatten(input_shape=(28,28))\n",
        "model.add = tf.keras.layers.Dense(128,activation=tf.nn.relu)\n",
        "model.add = tf.keras.layers.Dense(128,activation=tf.nn.relu)\n",
        "model.add = tf.keras.layers.Dense(10,activation=tf.nn.softmax) # the o/p neuron size is 10 coz o/p will be either of the 10 digits\n",
        "\n",
        "model.compile(optimizer='adam',loss='sparse_categorical_crossentropy',metrics=['accuracy']) #compiling the model with given params\n",
        "\n",
        "model.fit(x_train,y_train,epochs=1) # running the model\n",
        "\n",
        "val_loss,val_acc = model.evaluate(x_test,y_test) #Evaluate model \n",
        "\n",
        "print(val_loss*100,val_acc*100)"
      ],
      "execution_count": 0,
      "outputs": []
    },
    {
      "metadata": {
        "id": "SAS999pOvfl_",
        "colab_type": "code",
        "colab": {}
      },
      "cell_type": "code",
      "source": [
        "model.save('numreader.model') # save the model\n"
      ],
      "execution_count": 0,
      "outputs": []
    },
    {
      "metadata": {
        "id": "bjv0DAHK1y1_",
        "colab_type": "code",
        "colab": {}
      },
      "cell_type": "code",
      "source": [
        "newmod = tf.keras.models.load_model('numreader.model') # using the model to predict output\n",
        "\n",
        "predicts = newmod.predict(x_test)\n",
        "\n",
        "import numpy as np\n",
        "print(np.argmax(predicts[154])) # Tested for img with index 154(selected 154 arbitrarily!)\n",
        "plt.imshow(x_test[154],cmap='binary') # just to check if the img with 154 index is matching with prediction\n",
        "plt.show()\n"
      ],
      "execution_count": 0,
      "outputs": []
    }
  ]
}